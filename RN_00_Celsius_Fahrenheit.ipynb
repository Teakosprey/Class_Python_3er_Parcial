{
  "nbformat": 4,
  "nbformat_minor": 0,
  "metadata": {
    "colab": {
      "provenance": [],
      "authorship_tag": "ABX9TyP4XGz7puHDbvPPKZH1edxJ",
      "include_colab_link": true
    },
    "kernelspec": {
      "name": "python3",
      "display_name": "Python 3"
    },
    "language_info": {
      "name": "python"
    }
  },
  "cells": [
    {
      "cell_type": "markdown",
      "metadata": {
        "id": "view-in-github",
        "colab_type": "text"
      },
      "source": [
        "<a href=\"https://colab.research.google.com/github/Teakosprey/Class_Python_3er_Parcial/blob/main/RN_00_Celsius_Fahrenheit.ipynb\" target=\"_parent\"><img src=\"https://colab.research.google.com/assets/colab-badge.svg\" alt=\"Open In Colab\"/></a>"
      ]
    },
    {
      "cell_type": "code",
      "execution_count": null,
      "metadata": {
        "id": "8TMlnhdcLi7T"
      },
      "outputs": [],
      "source": [
        "import tensorflow as tf #Librería de IA diseñada por Google\n",
        "import numpy as np # Facilita el trabajo con arreglos numéricos\n",
        "\n",
        "#Declarar valores de entrada / salida\n",
        "celcius = np.array([-40,-10,0,8,15,22,38], dtype = float)\n",
        "fahrenheit = np.array ([-40,14,32,46,59,72,100], dtype = float)"
      ]
    },
    {
      "cell_type": "code",
      "source": [
        "#Capas\n",
        "#Kera facilita el grabajo con redes neuronales\n",
        "capa = tf.keras.layers.Dense(units = 1, input_shape = [1])\n",
        "modelo = tf.keras.Sequential([capa])"
      ],
      "metadata": {
        "id": "s3sUVPV7NwDe"
      },
      "execution_count": null,
      "outputs": []
    },
    {
      "cell_type": "code",
      "source": [
        "#Empezar el entrenamiento\n",
        "modelo.compile(\n",
        "    optimizer = tf.keras.optimizers.Adam(0.1), #Declaramos un optimizador que nos va a dar los ajustes de sesgo y peso\n",
        "    loss = 'mean_squared_error' #Calculo del error\n",
        ")"
      ],
      "metadata": {
        "id": "ikztakEYN--I"
      },
      "execution_count": null,
      "outputs": []
    },
    {
      "cell_type": "code",
      "source": [
        "print('Comenzando el entrenamiento...')\n",
        "historial = modelo.fit(celcius, fahrenheit, epochs = 1000, verbose = False)\n",
        "print('¡Modelo entrenado!')"
      ],
      "metadata": {
        "id": "qbpZBrKnO9fK"
      },
      "execution_count": null,
      "outputs": []
    },
    {
      "cell_type": "code",
      "source": [
        "#Vamos a graficar el error\n",
        "import matplotlib.pyplot as plt\n",
        "plt.xlabel('# Pasos')\n",
        "plt.ylabel('Magnitud de perdida')\n",
        "plt.plot(historial.history['loss'])"
      ],
      "metadata": {
        "id": "kYSivIzRP7sf"
      },
      "execution_count": null,
      "outputs": []
    },
    {
      "cell_type": "code",
      "source": [
        "#Hacer una predicción\n",
        "print('Hagamos una predicción')\n",
        "resultado = modelo.predict([100.00])\n",
        "print('El resultado es: ' + str(resultado) + 'Fahrenheit')"
      ],
      "metadata": {
        "id": "VMTlCE89R_px"
      },
      "execution_count": null,
      "outputs": []
    },
    {
      "cell_type": "code",
      "source": [
        "#Variables asignadas\n",
        "print('Variables del modelo')\n",
        "print(capa.get_weights())"
      ],
      "metadata": {
        "id": "oU-4uqzzSZsE"
      },
      "execution_count": null,
      "outputs": []
    }
  ]
}